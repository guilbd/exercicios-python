{
  "nbformat": 4,
  "nbformat_minor": 0,
  "metadata": {
    "colab": {
      "name": "exercicios_modulo2.ipynb",
      "provenance": [],
      "authorship_tag": "ABX9TyOysckDqcujivg3Num/mykD",
      "include_colab_link": true
    },
    "kernelspec": {
      "name": "python3",
      "display_name": "Python 3"
    },
    "language_info": {
      "name": "python"
    }
  },
  "cells": [
    {
      "cell_type": "markdown",
      "metadata": {
        "id": "view-in-github",
        "colab_type": "text"
      },
      "source": [
        "<a href=\"https://colab.research.google.com/github/guilbd/exercicios-python/blob/main/exercicios_modulo2.ipynb\" target=\"_parent\"><img src=\"https://colab.research.google.com/assets/colab-badge.svg\" alt=\"Open In Colab\"/></a>"
      ]
    },
    {
      "cell_type": "code",
      "metadata": {
        "colab": {
          "base_uri": "https://localhost:8080/"
        },
        "id": "fmm-QwBu7ipw",
        "outputId": "e5a4030c-7c34-4447-a200-f63e59e5de71"
      },
      "source": [
        "print(\"O primeiro programa a gente nunca esquece!\")"
      ],
      "execution_count": null,
      "outputs": [
        {
          "output_type": "stream",
          "text": [
            "O primeiro programa a gente nunca esquece!\n"
          ],
          "name": "stdout"
        }
      ]
    },
    {
      "cell_type": "code",
      "metadata": {
        "colab": {
          "base_uri": "https://localhost:8080/"
        },
        "id": "A2Nytfe-7pp4",
        "outputId": "069a11d5-19be-4959-dc1d-0898bc00723d"
      },
      "source": [
        "print(\"Guilherme Benvenuto\\nRua José Carvalho Monteiro CEP: 31.910-380\\nTel: 31 98763.0068\")"
      ],
      "execution_count": null,
      "outputs": [
        {
          "output_type": "stream",
          "text": [
            "Guilherme Benvenuto\n",
            "Rua José Carvalho Monteiro CEP: 31.910-380\n",
            "Tel: 31 98763.0068\n"
          ],
          "name": "stdout"
        }
      ]
    },
    {
      "cell_type": "code",
      "metadata": {
        "colab": {
          "base_uri": "https://localhost:8080/"
        },
        "id": "dxAjDAxr8Zot",
        "outputId": "96935d8b-e88b-4afb-b503-905a4a115b36"
      },
      "source": [
        "print(\"\"\"Teorema de Carlão\n",
        "Pedra Letícia\n",
        "\n",
        "Ouvir Teorema de Carlão\n",
        "Não encontrámos nada.\n",
        "Ei você aí isso vai mudar sua vida\n",
        "Então tente me ouvir\n",
        "Eu melhorei pra valer com teorema de Carlão\n",
        "Eu vou passar para você\n",
        "\n",
        "São quatro horas da manhã de sexta\n",
        "Você não tem quem pegar\n",
        "Eu vou te dar uma dica seu besta\n",
        "Olhe pra lá\n",
        "\n",
        "E veja aquela moça aquela bem baranga\n",
        "Ela diz pobrema\n",
        "Ela tem bigode\n",
        "Sem falar na pança\n",
        "\n",
        "Tente entender\n",
        "Ela quer ser feliz como você\n",
        "Ela também tem coração\n",
        "Então faça uma boa ação\n",
        "\n",
        "Pegue uma baranga diga que a ama\n",
        "Chama pra assistir DVD\n",
        "Detona a Juliana Paes critique a Alinne Moraes\n",
        "Declama eu prefiro você\n",
        "\n",
        "E não importa se ela é pesada\n",
        "Você tem que carregar\n",
        "Até o quarto sobe pela escada\n",
        "Depois você toma um ar\n",
        "\n",
        "E veja aquela moça aquela bem baranga\n",
        "Ela diz pobrema\n",
        "Ela tem bigode\n",
        "Mas você a ama\n",
        "\n",
        "Você entendeu\n",
        "Ela quer ser feliz como você\n",
        "Agora num só coração\n",
        "Então faça uma boa ação\n",
        "\n",
        "Pegue uma baranga diga que a ama\n",
        "Chama pra subir ao altar\n",
        "E olha o bem que você faz quando a beija uma vez mais\n",
        "No céu você guardou seu lugar\n",
        "\n",
        "Então pegue uma baranga diga que a ama\n",
        "Chama pra assistir DVD\n",
        "Detona a Juliana Paes critique a Alinne Moraes\n",
        "Declama eu prefiro você\n",
        "\n",
        "Então pegue uma baranga diga que a ama\n",
        "Chama pra subir ao altar\n",
        "E olha o bem que você faz quando a beija uma vez mais\n",
        "No céu você guardou seu lugar\n",
        "\n",
        "No céu você guardou seu lugar\n",
        "No céu você guardou seu lugar\n",
        "No céu você guardou seu lugar\n",
        "No céu você guardou seu lugar\n",
        "É que no céu você guardou seu lugar\n",
        "No céu você guardou seu lugar\n",
        "No céu você guardou seu lugar\"\"\")"
      ],
      "execution_count": null,
      "outputs": [
        {
          "output_type": "stream",
          "text": [
            "Teorema de Carlão\n",
            "Pedra Letícia\n",
            "\n",
            "Ouvir Teorema de Carlão\n",
            "Não encontrámos nada.\n",
            "Ei você aí isso vai mudar sua vida\n",
            "Então tente me ouvir\n",
            "Eu melhorei pra valer com teorema de Carlão\n",
            "Eu vou passar para você\n",
            "\n",
            "São quatro horas da manhã de sexta\n",
            "Você não tem quem pegar\n",
            "Eu vou te dar uma dica seu besta\n",
            "Olhe pra lá\n",
            "\n",
            "E veja aquela moça aquela bem baranga\n",
            "Ela diz pobrema\n",
            "Ela tem bigode\n",
            "Sem falar na pança\n",
            "\n",
            "Tente entender\n",
            "Ela quer ser feliz como você\n",
            "Ela também tem coração\n",
            "Então faça uma boa ação\n",
            "\n",
            "Pegue uma baranga diga que a ama\n",
            "Chama pra assistir DVD\n",
            "Detona a Juliana Paes critique a Alinne Moraes\n",
            "Declama eu prefiro você\n",
            "\n",
            "E não importa se ela é pesada\n",
            "Você tem que carregar\n",
            "Até o quarto sobe pela escada\n",
            "Depois você toma um ar\n",
            "\n",
            "E veja aquela moça aquela bem baranga\n",
            "Ela diz pobrema\n",
            "Ela tem bigode\n",
            "Mas você a ama\n",
            "\n",
            "Você entendeu\n",
            "Ela quer ser feliz como você\n",
            "Agora num só coração\n",
            "Então faça uma boa ação\n",
            "\n",
            "Pegue uma baranga diga que a ama\n",
            "Chama pra subir ao altar\n",
            "E olha o bem que você faz quando a beija uma vez mais\n",
            "No céu você guardou seu lugar\n",
            "\n",
            "Então pegue uma baranga diga que a ama\n",
            "Chama pra assistir DVD\n",
            "Detona a Juliana Paes critique a Alinne Moraes\n",
            "Declama eu prefiro você\n",
            "\n",
            "Então pegue uma baranga diga que a ama\n",
            "Chama pra subir ao altar\n",
            "E olha o bem que você faz quando a beija uma vez mais\n",
            "No céu você guardou seu lugar\n",
            "\n",
            "No céu você guardou seu lugar\n",
            "No céu você guardou seu lugar\n",
            "No céu você guardou seu lugar\n",
            "No céu você guardou seu lugar\n",
            "É que no céu você guardou seu lugar\n",
            "No céu você guardou seu lugar\n",
            "No céu você guardou seu lugar\n"
          ],
          "name": "stdout"
        }
      ]
    },
    {
      "cell_type": "code",
      "metadata": {
        "colab": {
          "base_uri": "https://localhost:8080/"
        },
        "id": "mmIx9m6E-2RM",
        "outputId": "56295463-aba5-4bb5-9648-15c9d488bd73"
      },
      "source": [
        "aluno1 = input(\"Digite o nome do aluno: \")\n",
        "nota1 = float(input(\"Digite a nota: \"))\n",
        "aluno2 = input(\"Digite o nome do aluno: \")\n",
        "nota2 = input(\"Digite a nota: \")\n",
        "aluno3 = input(\"Digite o nome do aluno: \")\n",
        "nota3 = float(input(\"Digite a nota: \"))\n",
        "aluno4 = input(\"Digite o nome do aluno: \")\n",
        "nota4 = float(input(\"Digite a nota: \"))\n",
        "\n",
        "print(\"ALUNO (A) NOTA\\n========= ====\\n\")\n",
        "print(f'{aluno1}\\t  {nota1}\\n{aluno2}\\t  {nota2}\\n{aluno3}\\t  {nota3}\\n{aluno4}\\t  {nota4}')"
      ],
      "execution_count": null,
      "outputs": [
        {
          "output_type": "stream",
          "text": [
            "Digite o nome do aluno: ALINE\n",
            "Digite a nota: 9\n",
            "Digite o nome do aluno: MÁRIO\n",
            "Digite a nota: DEZ\n",
            "Digite o nome do aluno: SÉRGIO\n",
            "Digite a nota: 4.5\n",
            "Digite o nome do aluno: SHIRLEY\n",
            "Digite a nota: 7.5\n",
            "ALUNO (A) NOTA\n",
            "========= ====\n",
            "\n",
            "ALINE\t  9.0\n",
            "MÁRIO\t  DEZ\n",
            "SÉRGIO\t  4.5\n",
            "SHIRLEY\t  7.5\n"
          ],
          "name": "stdout"
        }
      ]
    },
    {
      "cell_type": "code",
      "metadata": {
        "colab": {
          "base_uri": "https://localhost:8080/"
        },
        "id": "uq5EhD2QAp1S",
        "outputId": "a9a6a5df-f242-4547-c3e7-b73097c8e026"
      },
      "source": [
        "print(\"\"\"Cadastro de Clientes\n",
        "0 - Fim\n",
        "1 - Inclui\n",
        "2 - Altera\n",
        "3 - Exclui\n",
        "4 - Consulta\"\"\")\n",
        "opcao = int(input(\"Digite uma opção: \"))\n",
        "print(f'Você escolheu a opção \"{opcao}\"')\n"
      ],
      "execution_count": null,
      "outputs": [
        {
          "output_type": "stream",
          "text": [
            "Cadastro de Clientes\n",
            "0 - Fim\n",
            "1 - Inclui\n",
            "2 - Altera\n",
            "3 - Exclui\n",
            "4 - Consulta\n",
            "Digite uma opção: 0\n",
            "Você escolheu a opção \"0\"\n"
          ],
          "name": "stdout"
        }
      ]
    },
    {
      "cell_type": "code",
      "metadata": {
        "colab": {
          "base_uri": "https://localhost:8080/"
        },
        "id": "4Di0f5HLDwTU",
        "outputId": "9cfe2051-6a57-4fa2-bb71-c3a5da23b5fe"
      },
      "source": [
        "# Calculadora de Dano\n",
        "\n",
        "from math import ceil # CEIL arredonda qualquer ponto flutuante para cima\n",
        "\n",
        "vida = int(input('Digite a quantidade de vidas (entre 10 e 50): '))\n",
        "ataque = int(input('Digite o valor do ataque por turno (entre 5 e 10): '))\n",
        "turnos = ceil(vida / ataque)\n",
        "\n",
        "print(f'O jogador irá derrotar o monstro em {turnos} turnos.')"
      ],
      "execution_count": 1,
      "outputs": [
        {
          "output_type": "stream",
          "text": [
            "Digite a quantidade de vidas (entre 10 e 50): 20\n",
            "Digite o valor do ataque por turno (entre 5 e 10): 8\n",
            "O jogador irá derrotar o monstro em 3 turnos.\n"
          ],
          "name": "stdout"
        }
      ]
    },
    {
      "cell_type": "code",
      "metadata": {
        "colab": {
          "base_uri": "https://localhost:8080/"
        },
        "id": "HqfLP_dXFmpt",
        "outputId": "85a1ad42-fe09-4d81-afe4-d5e075c3ba03"
      },
      "source": [
        "vlrRefeicao = 42.54\n",
        "txServico = 0.10\n",
        "totalConta = (vlrRefeicao * txServico) + vlrRefeicao\n",
        "\n",
        "print(f'O valor total da conta é R${totalConta:.2f}')"
      ],
      "execution_count": null,
      "outputs": [
        {
          "output_type": "stream",
          "text": [
            "O valor total da conta é R$46.79\n"
          ],
          "name": "stdout"
        }
      ]
    },
    {
      "cell_type": "code",
      "metadata": {
        "colab": {
          "base_uri": "https://localhost:8080/"
        },
        "id": "Oc9bshNENLkt",
        "outputId": "811cd348-9e6b-4217-cc8a-53133ca236de"
      },
      "source": [
        "vlrCompra = 100.98\n",
        "vlrPagamento = 150\n",
        "vlrTroco = vlrPagamento - vlrCompra\n",
        "\n",
        "print(f'O troco é de: R$ {vlrTroco:.0f} ')"
      ],
      "execution_count": null,
      "outputs": [
        {
          "output_type": "stream",
          "text": [
            "O troco é de: R$ 49 \n"
          ],
          "name": "stdout"
        }
      ]
    },
    {
      "cell_type": "code",
      "metadata": {
        "colab": {
          "base_uri": "https://localhost:8080/"
        },
        "id": "9NjyXmxlPfbc",
        "outputId": "d62ef9c1-8eb4-4216-f4cc-758d8753385e"
      },
      "source": [
        "#03 - Você está na flor da idade?\n",
        "anoNascimento = 1979\n",
        "anoAtual = 2021\n",
        "idade = anoAtual - anoNascimento\n",
        "\n",
        "print(f\"Você tem {idade} anos. Você está na flor da idade.\")"
      ],
      "execution_count": null,
      "outputs": [
        {
          "output_type": "stream",
          "text": [
            "Você tem 42 anos. Você está na flor da idade.\n"
          ],
          "name": "stdout"
        }
      ]
    },
    {
      "cell_type": "code",
      "metadata": {
        "colab": {
          "base_uri": "https://localhost:8080/"
        },
        "id": "XC6WPzBlQOLW",
        "outputId": "898cead0-b948-4280-d611-93746272c0a8"
      },
      "source": [
        "#01 - Conversor de moedas\n",
        "\n",
        "real = float(input(\"Digite o valor em reais: \"))\n",
        "\n",
        "dolar = 5.035\n",
        "euro = 6.129\n",
        "libra = 7.126\n",
        "dolarCanadense = 4.156\n",
        "pesoArgentina = 0.053\n",
        "pesoChile = 0.007\n",
        "\n",
        "cotDolar = float(real / dolar)\n",
        "cotEuro = float(real / euro)\n",
        "cotLibra = float(real / libra)\n",
        "cotCanada = float(real / dolarCanadense)\n",
        "cotArgentina = float(real / pesoArgentina)\n",
        "cotChile = float(real / pesoChile)\n",
        "\n",
        "\n",
        "print(f'Segue o valor convertido para a moeda:\\n Dólar: ${cotDolar:.2f}\\n Euro: ${cotEuro:.2f}\\n Libra: ${cotLibra:.2f}\\n Dólar Canadense ${cotCanada:.2f}\\n Peso Argentino: ${cotArgentina:.2f}\\n Peso Chileno: ${cotChile:.2f}')\n",
        "\n"
      ],
      "execution_count": null,
      "outputs": [
        {
          "output_type": "stream",
          "text": [
            "Digite o valor em reais: 100\n",
            "Segue o valor convertido para a moeda:\n",
            " Dólar: $19.86\n",
            " Euro: $16.32\n",
            " Libra: $14.03\n",
            " Dólar Canadense $24.06\n",
            " Peso Argentino: $1886.79\n",
            " Peso Chileno: $14285.71\n"
          ],
          "name": "stdout"
        }
      ]
    },
    {
      "cell_type": "code",
      "metadata": {
        "colab": {
          "base_uri": "https://localhost:8080/"
        },
        "id": "0FB8B8hDUfSi",
        "outputId": "e78abe0b-f053-451b-8647-2684bfd1fde0"
      },
      "source": [
        "#02 - Calculadora de aumento de aluguel\n",
        "\n",
        "aluguel = float(input(\"Digite o valor do aluguel: \"))\n",
        "txReajuste = input(\"Qual a taxa de reajuste (XX%) ? \")\n",
        "txReajuste2 = float(txReajuste.replace(\"%\",\"\"))\n",
        "vlrReajustado = float(aluguel * (txReajuste2/100)) + aluguel\n",
        "\n",
        "\n",
        "print(f'Valor do aluguel: R$ {aluguel:.2f}.\\n Valor reajustado: R$ {vlrReajustado:.2f}.\\n Percentual de Reajuste: {txReajuste2}%')\n",
        "\n"
      ],
      "execution_count": 2,
      "outputs": [
        {
          "output_type": "stream",
          "text": [
            "Digite o valor do aluguel: 1000\n",
            "Qual a taxa de reajuste (XX%) ? 31%\n",
            "Valor do aluguel: R$ 1000.00.\n",
            " Valor reajustado: R$ 1310.00.\n",
            " Percentual de Reajuste: 31.0%\n"
          ],
          "name": "stdout"
        }
      ]
    },
    {
      "cell_type": "code",
      "metadata": {
        "id": "HK8oXBgWZMNb"
      },
      "source": [
        ""
      ],
      "execution_count": null,
      "outputs": []
    }
  ]
}