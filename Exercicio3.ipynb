{
  "nbformat": 4,
  "nbformat_minor": 0,
  "metadata": {
    "colab": {
      "name": "Exercicio3.ipynb",
      "provenance": [],
      "collapsed_sections": [],
      "authorship_tag": "ABX9TyOdtpCVqTMxlq/1g8E0AM8R",
      "include_colab_link": true
    },
    "kernelspec": {
      "name": "python3",
      "display_name": "Python 3"
    },
    "language_info": {
      "name": "python"
    }
  },
  "cells": [
    {
      "cell_type": "markdown",
      "metadata": {
        "id": "view-in-github",
        "colab_type": "text"
      },
      "source": [
        "<a href=\"https://colab.research.google.com/github/guilbd/exercicios-python/blob/main/Exercicio3.ipynb\" target=\"_parent\"><img src=\"https://colab.research.google.com/assets/colab-badge.svg\" alt=\"Open In Colab\"/></a>"
      ]
    },
    {
      "cell_type": "code",
      "metadata": {
        "colab": {
          "base_uri": "https://localhost:8080/"
        },
        "id": "yg3QKCOJEZeh",
        "outputId": "05402863-15b7-4cce-b090-be7ca9098855"
      },
      "source": [
        "numero = int(input('Digite o numero: '))\n",
        "\n",
        "if numero % 2 == 0:\n",
        "  print('Numero par')\n",
        "else:\n",
        "  print('Numero impar')\n",
        "  "
      ],
      "execution_count": null,
      "outputs": [
        {
          "output_type": "stream",
          "text": [
            "Digite o numero: 9\n",
            "Numero impar\n"
          ],
          "name": "stdout"
        }
      ]
    },
    {
      "cell_type": "code",
      "metadata": {
        "colab": {
          "base_uri": "https://localhost:8080/"
        },
        "id": "Lc-GOsYUEqLd",
        "outputId": "ae592aee-8ac2-48b0-c0d4-c1f2386b2c57"
      },
      "source": [
        "valor = int(input('Valor: '))\n",
        "\n",
        "if valor > 0:\n",
        "  print('Valor positivo')\n",
        "else:\n",
        "  print('Valor negativo')"
      ],
      "execution_count": null,
      "outputs": [
        {
          "output_type": "stream",
          "text": [
            "Valor: 13\n",
            "Valor positivo\n"
          ],
          "name": "stdout"
        }
      ]
    },
    {
      "cell_type": "code",
      "metadata": {
        "colab": {
          "base_uri": "https://localhost:8080/"
        },
        "id": "tsuEr8DrE-PO",
        "outputId": "ff942b21-8a06-4d94-adfd-4933917cb999"
      },
      "source": [
        "valor = int(input('Digite o valor: '))\n",
        "\n",
        "if valor == 0:\n",
        "  print('Número inválido!')\n",
        "else:\n",
        "  if valor > 0:\n",
        "    print('Numero positivo')\n",
        "  else:\n",
        "    print('Numero negativo')\n",
        "    \n",
        "print('Programa finalizado!')"
      ],
      "execution_count": null,
      "outputs": [
        {
          "output_type": "stream",
          "text": [
            "Digite o valor: 13\n",
            "Numero positivo\n",
            "Programa finalizado!\n"
          ],
          "name": "stdout"
        }
      ]
    },
    {
      "cell_type": "code",
      "metadata": {
        "colab": {
          "base_uri": "https://localhost:8080/"
        },
        "id": "9PwSvVEaO1OD",
        "outputId": "736dbd74-8944-43e5-8307-abcb9fe68ad1"
      },
      "source": [
        "nr1 = int(input('Digite o primeiro numero: '))\n",
        "nr2 = int(input('Digite o segundo numero: '))\n",
        "\n",
        "if nr1 > nr2:\n",
        "  print(f'O numero {nr1} é o maior')\n",
        "else:\n",
        "  if nr1 == nr2:\n",
        "    print(\"Os numeros são iguais!\")\n",
        "  else:\n",
        "    print(f'O numero {nr2} é o maior')"
      ],
      "execution_count": null,
      "outputs": [
        {
          "output_type": "stream",
          "text": [
            "Digite o primeiro numero: 20\n",
            "Digite o segundo numero: 30\n",
            "O numero 30 é o maior\n"
          ],
          "name": "stdout"
        }
      ]
    },
    {
      "cell_type": "code",
      "metadata": {
        "colab": {
          "base_uri": "https://localhost:8080/"
        },
        "id": "Nmx33rXJO2Rx",
        "outputId": "3ab2f0e9-b6ed-43a1-b161-c7a3bae75126"
      },
      "source": [
        "sexo = input('Digite M ou F: ').upper()\n",
        "\n",
        "if sexo == 'M':\n",
        "  print('Masculino')\n",
        "elif sexo == 'F':\n",
        "    print('Feminino')\n",
        "else:\n",
        "    print('Sexo biológico errado.')"
      ],
      "execution_count": null,
      "outputs": [
        {
          "output_type": "stream",
          "text": [
            "Digite M ou F: m\n",
            "Masculino\n"
          ],
          "name": "stdout"
        }
      ]
    },
    {
      "cell_type": "code",
      "metadata": {
        "id": "MOsazb-EPIE1",
        "colab": {
          "base_uri": "https://localhost:8080/"
        },
        "outputId": "589908a6-8cc4-438a-9b25-74b53e6afafc"
      },
      "source": [
        "nota = float(input('Digite a nota do aluno entre de 0.00 a 10.0:'))\n",
        "\n",
        "if nota >= 0 and nota <= 10:\n",
        "  if nota < 6.0:\n",
        "    print('Nota F')\n",
        "  elif nota < 7.0:\n",
        "    print('Nota D')\n",
        "  elif nota < 8.0:\n",
        "    print('Nota C')\n",
        "  elif nota < 9.0:\n",
        "    print('Nota B')\n",
        "  else:\n",
        "    print\n",
        "else:\n",
        "  print('Nota inválida. Por favor verifique e digite uma nota entre 0.00 e 10.0')"
      ],
      "execution_count": 14,
      "outputs": [
        {
          "output_type": "stream",
          "text": [
            "Digite a nota do aluno entre de 0.00 a 10.0:7.8\n",
            "Nota C\n"
          ],
          "name": "stdout"
        }
      ]
    },
    {
      "cell_type": "code",
      "metadata": {
        "colab": {
          "base_uri": "https://localhost:8080/"
        },
        "id": "tuhi76soc6Qb",
        "outputId": "d5c2cb1b-5f3e-4f81-abb5-6f0143fb3338"
      },
      "source": [
        "# Projeto 01\n",
        "\n",
        "string = input('Escolha Medieval ou Futurista: ').lower().capitalize()\n",
        "\n",
        "if string == 'Medieval':\n",
        "  print('Espada')\n",
        "elif string == 'Futurista':\n",
        "  print('Sabre de Luz')\n",
        "else:\n",
        "  print('Tente novamente')"
      ],
      "execution_count": 21,
      "outputs": [
        {
          "output_type": "stream",
          "text": [
            "Escolha Medieval ou Futurista: futurista\n",
            "Sabre de Luz\n"
          ],
          "name": "stdout"
        }
      ]
    },
    {
      "cell_type": "code",
      "metadata": {
        "colab": {
          "base_uri": "https://localhost:8080/"
        },
        "id": "bar555t5j1Sv",
        "outputId": "43d57645-d385-40d0-f2c8-e59abf22bc71"
      },
      "source": [
        "# Projeto 2\n",
        "\n",
        "arma = input('Escolha Espada ou Sabre para atacar o chefão: ').lower()\n",
        "\n",
        "if arma == 'Espada':\n",
        "  print('Você ainda não matou o chefão.')\n",
        "elif arma == 'Sabre':\n",
        "  print('Você derrotou o Chefão com o Sabre de Luz')\n",
        "else:\n",
        "  print('Ataque novamente')"
      ],
      "execution_count": 23,
      "outputs": [
        {
          "output_type": "stream",
          "text": [
            "Escolha Espada ou Sabre para atacar o chefão: Medieval\n",
            "Ataque novamente\n"
          ],
          "name": "stdout"
        }
      ]
    },
    {
      "cell_type": "code",
      "metadata": {
        "colab": {
          "base_uri": "https://localhost:8080/"
        },
        "id": "s17JhPxZjEzS",
        "outputId": "dfc085ac-5e0b-47e9-dfdf-f31d4bd3cb56"
      },
      "source": [
        "# Desafio 01\n",
        "\n",
        "salario = float(input('Digite seu salário atual: '))\n",
        "\n",
        "\n",
        "\n",
        "if salario <= 280.00:\n",
        "  salario20 = salario * 1.2\n",
        "  print(f'Salário antes do reajuste: {salario}')\n",
        "  print(f'Percentual de aumento: 20%')\n",
        "  print(f'Valor do aumento: {(salario20 - salario):.2f}')\n",
        "  print(f'Novo salário: {salario20:.2f}')\n",
        "elif salario < 700.00:\n",
        "  salario15 = salario * 1.15\n",
        "  print(f'Salário antes do reajuste: {salario}')\n",
        "  print(f'Percentual de aumento: 15%')\n",
        "  print(f'Valor do aumento: {(salario15 - salario):.2f}')\n",
        "  print(f'Novo salário: {salario15:.2f}')\n",
        "elif salario < 1500.00:\n",
        "  salario10 = salario * 1.1\n",
        "  print(f'Salário antes do reajuste: {salario}')\n",
        "  print(f'Percentual de aumento: 10%')\n",
        "  print(f'Valor do aumento: {(salario10 - salario):.2f}')\n",
        "  print(f'Novo salário: {salario10:.2f}')\n",
        "else:\n",
        "  salario5 = salario * 1.05\n",
        "  print(f'Salário antes do reajuste: {salario}')\n",
        "  print(f'Percentual de aumento: 5%')\n",
        "  print(f'Valor do aumento: {(salario5 - salario):.2f}')\n",
        "  print(f'Novo salário: {salario5:.2f}')\n",
        "\n",
        "\n",
        "\n",
        "\n"
      ],
      "execution_count": 37,
      "outputs": [
        {
          "output_type": "stream",
          "text": [
            "Digite seu salário atual: 250\n",
            "Salário antes do reajuste: 250.0\n",
            "Percentual de aumento: 20%\n",
            "Valor do aumento: 50.00\n",
            "Novo salário: 300.00\n"
          ],
          "name": "stdout"
        }
      ]
    },
    {
      "cell_type": "code",
      "metadata": {
        "colab": {
          "base_uri": "https://localhost:8080/"
        },
        "id": "lIen5wVzoVWM",
        "outputId": "ce17760d-875c-4fa2-94f8-3dbfc5597f86"
      },
      "source": [
        "# Desafio 2\n",
        "\n",
        "import random\n",
        "\n",
        "nrRandom = random.randint(0, 10)\n",
        "# print(nrRandom)\n",
        "nr = int(input('Digite um valor entre 0 e 10: '))\n",
        "\n",
        "if nr == nrRandom:\n",
        "  print('Você acertou!!!')\n",
        "else:\n",
        "    print('Você perdeu!!! Tente novamente')"
      ],
      "execution_count": 36,
      "outputs": [
        {
          "output_type": "stream",
          "text": [
            "2\n",
            "Digite um valor entre 0 e 10: 2\n",
            "Você acertou!!!\n"
          ],
          "name": "stdout"
        }
      ]
    },
    {
      "cell_type": "code",
      "metadata": {
        "colab": {
          "base_uri": "https://localhost:8080/"
        },
        "id": "EZXrm1bAqpD2",
        "outputId": "c9c14674-f6af-4524-9dc3-5b7001cb3718"
      },
      "source": [
        "# Desafio 3\n",
        "\n",
        "\n",
        "saque = int(input('Qual o valor a ser sacado (entre R$10 e R$600): '))\n",
        "\n",
        "\n",
        "\n",
        "\n",
        "if saque < 10 or saque > 600:\n",
        "  print('Valor inválido.\\nValor mínimo: R$10.00\\nValor máximo: R$600.00')\n",
        "else:\n",
        "  cem = int(saque/100)\n",
        "  saque = saque % 100\n",
        "      \n",
        "  cinquenta = int(saque/50)\n",
        "  saque = saque % 50\n",
        "\n",
        "  dez = int(saque/10)\n",
        "  saque = saque % 10\n",
        "\n",
        "  cinco = int(saque/5)\n",
        "  saque = saque % 5\n",
        "\n",
        "  um = int(saque/1)\n",
        "  saque = saque % 1\n",
        "\n",
        "  print(f'{cem} Nota(s) R$ 100,00.')\n",
        "  print(f'{cinquenta} Notas(s) R$ 50,00.')\n",
        "  print(f'{dez} Notas(s) R$ 10,00.')\n",
        "  print(f'{cinco} Notas(s) R$ 5,00.')\n",
        "  print(f'{um} Notas(s) R$ 1,00.')\n"
      ],
      "execution_count": 45,
      "outputs": [
        {
          "output_type": "stream",
          "text": [
            "Qual o valor a ser sacado (entre R$10 e R$600): 279\n",
            "2 Nota(s) R$ 100,00.\n",
            "1 Notas(s) R$ 50,00.\n",
            "2 Notas(s) R$ 10,00.\n",
            "1 Notas(s) R$ 5,00.\n",
            "4 Notas(s) R$ 1,00.\n"
          ],
          "name": "stdout"
        }
      ]
    }
  ]
}